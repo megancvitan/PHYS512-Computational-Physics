{
 "cells": [
  {
   "cell_type": "code",
   "execution_count": 3,
   "metadata": {},
   "outputs": [],
   "source": [
    "import numpy as np\n",
    "from matplotlib import pyplot as plt\n",
    "from scipy import interpolate"
   ]
  },
  {
   "cell_type": "code",
   "execution_count": 24,
   "metadata": {},
   "outputs": [],
   "source": [
    "#Functions for examples\n",
    "def f1():\n",
    "    f = lambda x: np.cos(x)\n",
    "    F = lambda x: -sin(x)\n",
    "    return f, '-sin(x)', F\n",
    "\n",
    "def f2():\n",
    "    f = lambda x: np.arctan(x)\n",
    "    F = lambda x: 1.0/(1.0+x**(2.0))\n",
    "    return f, '1.0/(1.0+x**(2.0))', F\n",
    "\n",
    "def f3():\n",
    "    f = lambda x: 2*x**3\n",
    "    F = lambda x: (1.0/2.0)*x**(4.0)\n",
    "    return f, '(1.0/2.0)*x**(4.0)', F"
   ]
  },
  {
   "cell_type": "code",
   "execution_count": 42,
   "metadata": {},
   "outputs": [],
   "source": [
    "#Recursive variable step size integrator\n",
    "#Define integrator using simpson's rule; I did this in pset1 for my integrator\n",
    "def simpson(f, a, b):\n",
    "    #Splitting into n subintervals\n",
    "    if a == b:\n",
    "        return 0\n",
    "    if a < b:\n",
    "        sign = 1\n",
    "    else:\n",
    "        sign = -1\n",
    "\n",
    "    h = (a+b)/2 #Get the height\n",
    "    fh = f(h) #Get the function value at the given height\n",
    "    fa = f(a)\n",
    "    fb = f(b)\n",
    "    dx = (b-a)/6 #Set n=2, so 3*2\n",
    "    #Integrate with simpson's rule\n",
    "    i = dx*sign*(fa+4*fh+fb)\n",
    "    \n",
    "    return i, h, fh\n",
    "\n",
    "#Keep iterating over guesses to allow convergence\n",
    "def dynamic_simpson(f, a, b, h, fa, fb, fh, guess, tolerance, nmax, count=1):\n",
    "    if count < nmax:\n",
    "        guess_ah, left_h, left_fh = simpson(f, a, h)\n",
    "        guess_bh, right_h, right_fh = simpson(f, h, b)\n",
    "        err = np.abs(guess_ah+guess_bh-guess)\n",
    "        \n",
    "        if err < 15*tolerance:\n",
    "            return guess, count\n",
    "        else:\n",
    "            #Provide smaller and smaller tolerances each time, and update the count\n",
    "            #Separate the left and right side, up until h\n",
    "            guess_left, count_left = dynamic_simpson(f, a, h, left_h, fa, fh, left_fh, guess_ah, tolerance/2, nmax, count+1)\n",
    "            guess_right, count_right = dynamic_simpson(f, h, b, right_h, fh, fb, right_fh, guess_bh, tolerance/2, nmax, count+1)\n",
    "            \n",
    "            #Combine the two sides for total guess and count\n",
    "            guess_t = guess_left+guess_right\n",
    "            count_t = count_left+count_right\n",
    "            \n",
    "            return guess_t, count_t\n",
    "        \n",
    "    else:\n",
    "        print('Does not converge. Increase tolerance or nmax')\n",
    "        exit(1)\n",
    "        \n",
    "def summing(f, a, b, tolerance, nmax):\n",
    "    i, h, fh = simpson(f, a, b)\n",
    "    result= np.array(dynamic_simpson(f, a, b, h, f(a), f(b), fh, i, tolerance, nmax))\n",
    "    #Add up the counts and integral for each interval of simpson\n",
    "    count = np.sum(result[1::2])\n",
    "    integ = np.sum(result[0::2])\n",
    "    \n",
    "    return integ, count\n",
    "\n",
    "def integ(fun, x):\n",
    "    f, st, F = fun()\n",
    "    integral_simpson, c = summing(f, x[0], x[1], 1e-7, 1000)\n",
    "    print('The integral of', st, 'from', x[0], 'to', x[1], 'is', integral_simpson)\n",
    "    print('There are', c, 'function calls \\n')"
   ]
  },
  {
   "cell_type": "code",
   "execution_count": 43,
   "metadata": {},
   "outputs": [
    {
     "name": "stdout",
     "output_type": "stream",
     "text": [
      "The integral of -sin(x) from -1 to 1 is 1.6829421123469221\n",
      "There are 80.0 function calls \n",
      "\n",
      "The integral of 1.0/(1.0+x**(2.0)) from -10 to 10 is 0.0\n",
      "There are 1.0 function calls \n",
      "\n",
      "The integral of (1.0/2.0)*x**(4.0) from -2 to 10 is 4992.0\n",
      "There are 1.0 function calls \n",
      "\n"
     ]
    }
   ],
   "source": [
    "#Integrate the example functions\n",
    "integ(f1, [-1,1])\n",
    "integ(f2, [-10,10])\n",
    "integ(f3, [-2,10])"
   ]
  },
  {
   "cell_type": "markdown",
   "metadata": {},
   "source": [
    "The lazy way of integration takes 2*(n+1) function calls, where n is the number of function calls from the step integrator method. For the first example with cos(x), we can see that the lazy integrator would take 162 calls. The arctan(x) and cubic function example take one call to compute the integral; the lazy method would require 4 calls."
   ]
  },
  {
   "cell_type": "code",
   "execution_count": null,
   "metadata": {},
   "outputs": [],
   "source": []
  },
  {
   "cell_type": "code",
   "execution_count": null,
   "metadata": {},
   "outputs": [],
   "source": []
  }
 ],
 "metadata": {
  "kernelspec": {
   "display_name": "Python 3",
   "language": "python",
   "name": "python3"
  },
  "language_info": {
   "codemirror_mode": {
    "name": "ipython",
    "version": 3
   },
   "file_extension": ".py",
   "mimetype": "text/x-python",
   "name": "python",
   "nbconvert_exporter": "python",
   "pygments_lexer": "ipython3",
   "version": "3.8.3"
  }
 },
 "nbformat": 4,
 "nbformat_minor": 4
}
