{
 "cells": [
  {
   "cell_type": "code",
   "execution_count": 6,
   "metadata": {},
   "outputs": [],
   "source": [
    "import numpy as np\n",
    "from matplotlib import pyplot as plt\n",
    "import h5py\n",
    "import glob\n",
    "import import_ipynb\n",
    "#Import file that reads the .hdf5 files\n",
    "import read_ligo"
   ]
  },
  {
   "cell_type": "markdown",
   "metadata": {},
   "source": [
    "This assignment focuses on finding gravitational waves. This file will be the main, where I will use functions from other jupyter notebooks to keep everything organized. Let's get started by loading all of the data files."
   ]
  },
  {
   "cell_type": "code",
   "execution_count": 20,
   "metadata": {},
   "outputs": [
    {
     "name": "stdout",
     "output_type": "stream",
     "text": [
      "Reading files: H-H1_LOSC_4_V2-1126259446-32.hdf5 and L-L1_LOSC_4_V2-1126259446-32.hdf5\n",
      "Reading files: H-H1_LOSC_4_V2-1128678884-32.hdf5 and L-L1_LOSC_4_V2-1128678884-32.hdf5\n",
      "Reading files: H-H1_LOSC_4_V2-1135136334-32.hdf5 and L-L1_LOSC_4_V2-1135136334-32.hdf5\n",
      "Reading files: H-H1_LOSC_4_V1-1167559920-32.hdf5 and L-L1_LOSC_4_V1-1167559920-32.hdf5\n"
     ]
    }
   ],
   "source": [
    "#Define file path location\n",
    "filepath = 'LOSC_Event_tutorial/LOSC_Event_tutorial/'\n",
    "\n",
    "#I will denote Hanford data with '_H' and Livingston data with '_L'\n",
    "#Create an array of the files of interest\n",
    "files_H  = ['H-H1_LOSC_4_V2-1126259446-32.hdf5','H-H1_LOSC_4_V2-1128678884-32.hdf5',\n",
    "            'H-H1_LOSC_4_V2-1135136334-32.hdf5','H-H1_LOSC_4_V1-1167559920-32.hdf5'] \n",
    "files_L  = ['L-L1_LOSC_4_V2-1126259446-32.hdf5','L-L1_LOSC_4_V2-1128678884-32.hdf5',\n",
    "            'L-L1_LOSC_4_V2-1135136334-32.hdf5','L-L1_LOSC_4_V1-1167559920-32.hdf5'] \n",
    "\n",
    "#Initialize the strains\n",
    "strains_H, strains_L = np.zeros([len(files_H), 131072]), np.zeros([len(files_L), 131072])\n",
    "\n",
    "#Initialize utc\n",
    "utc_H, utc_L = [], []\n",
    "\n",
    "#Create array with all the filters files and the filters at Hanford and Livingston\n",
    "templates = np.array(['GW150914_4_template.hdf5','LVT151012_4_template.hdf5',\n",
    "                      'GW151226_4_template.hdf5','GW170104_4_template.hdf5'])\n",
    "t_H, t_L = np.zeros([len(templates), 131072]), np.zeros([len(templates), 131072])\n",
    "\n",
    "#Loop over the files_H and files_L to save all of the strains utcs, dts, filters, and templates\n",
    "for i in range(len(files_H)):\n",
    "    print('Reading files:', files_H[i], 'and', files_L[i])\n",
    "    strains_H[i,:], dt, utc_1 = read_ligo.read_file(filepath+files_H[i])\n",
    "    strains_L[i,:], dt, utc_2 = read_ligo.read_file(filepath+files_L[i])\n",
    "    utc_H.append(utc_1)\n",
    "    utc_L.append(utc_2)\n",
    "    t_H[i:,],t_L[i:,] = read_ligo.read_template(filepath+templates[i])\n",
    "    \n",
    "#Turn utcs into arrays for later\n",
    "np.array(utc_H)\n",
    "np.array(utc_L)\n",
    "\n",
    "#Define event names\n",
    "events = ['GW150914','LVT151012','GW151226','GW170104']"
   ]
  },
  {
   "cell_type": "markdown",
   "metadata": {},
   "source": [
    "### Question 1 a)"
   ]
  },
  {
   "cell_type": "code",
   "execution_count": null,
   "metadata": {},
   "outputs": [],
   "source": []
  }
 ],
 "metadata": {
  "kernelspec": {
   "display_name": "Python 3",
   "language": "python",
   "name": "python3"
  },
  "language_info": {
   "codemirror_mode": {
    "name": "ipython",
    "version": 3
   },
   "file_extension": ".py",
   "mimetype": "text/x-python",
   "name": "python",
   "nbconvert_exporter": "python",
   "pygments_lexer": "ipython3",
   "version": "3.8.3"
  }
 },
 "nbformat": 4,
 "nbformat_minor": 4
}
