{
 "cells": [
  {
   "cell_type": "code",
   "execution_count": 1,
   "metadata": {},
   "outputs": [],
   "source": [
    "import numpy\n",
    "from matplotlib import pyplot as plt\n",
    "import h5py\n",
    "import glob\n",
    "plt.ion()\n",
    "\n",
    "#Defining function to read the template files\n",
    "def read_template(filename):\n",
    "    dataFile=h5py.File(filename,'r')\n",
    "    template=dataFile['template']\n",
    "    th=template[0]\n",
    "    tl=template[1]\n",
    "    return th,tl\n",
    "\n",
    "#Defining function to read the data files\n",
    "def read_file(filename):\n",
    "    dataFile=h5py.File(filename,'r')\n",
    "    dqInfo = dataFile['quality']['simple']\n",
    "    qmask=dqInfo['DQmask'][...]\n",
    "    meta=dataFile['meta']\n",
    "    gpsStart=meta['GPSstart'].value\n",
    "    #print meta.keys()\n",
    "    utc=meta['UTCstart'].value\n",
    "    duration=meta['Duration'].value\n",
    "    strain=dataFile['strain']['Strain'].value\n",
    "    dt=(1.0*duration)/len(strain)\n",
    "    dataFile.close()\n",
    "\n",
    "    #Returns the data (strain), timesteps, and universal time utc\n",
    "    return strain,dt,utc"
   ]
  },
  {
   "cell_type": "code",
   "execution_count": null,
   "metadata": {},
   "outputs": [],
   "source": []
  }
 ],
 "metadata": {
  "kernelspec": {
   "display_name": "Python 3",
   "language": "python",
   "name": "python3"
  },
  "language_info": {
   "codemirror_mode": {
    "name": "ipython",
    "version": 3
   },
   "file_extension": ".py",
   "mimetype": "text/x-python",
   "name": "python",
   "nbconvert_exporter": "python",
   "pygments_lexer": "ipython3",
   "version": "3.8.3"
  }
 },
 "nbformat": 4,
 "nbformat_minor": 4
}
