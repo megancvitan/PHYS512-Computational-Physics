{
 "cells": [
  {
   "cell_type": "code",
   "execution_count": 33,
   "metadata": {},
   "outputs": [],
   "source": [
    "from IPython.display import HTML"
   ]
  },
  {
   "cell_type": "markdown",
   "metadata": {},
   "source": [
    "### NBody Project\n",
    "\n",
    "In this notebook, I will go over each question of the assignment and explain the plots that I have generated. The majority of the code responsible for setting up the system is found in particle_properties. \n",
    "\n",
    "The file nbody is where the simulation takes place, and it can perform the simulation in either 2D or 3D by specifying the input parameter ndim.\n",
    "\n",
    "To find the potential of the potential grid, I use the particle mesh method because it is easier to implement. To get the forces, I take the gradient of the potential. We can find this by convoluting the density of the grid with the green function of the grid. We can take the forces and interpolate them to the particles using the inverse mass scheme of the NGP. The leapfrog method is used to evolve the system, and update the position and velocities.\n",
    "\n",
    "For the periodic boundary conditions, the green function was flipped on the boundary in order to get a periodic behavior. For the non-periodic boundary conditions, the grid was multiplied by two. By doing this, the particles do not feel any forces coming from the other side. This was done by setting the potential on the boundary to 0 and not allowing particles to exist on initialization.\n",
    "\n",
    "Animations can be found in the folder gifs, and the calculated energy values are found in energy_data. A collection of the plots are found in energy_plots."
   ]
  },
  {
   "cell_type": "markdown",
   "metadata": {},
   "source": [
    "### Question 1\n",
    "\n",
    "In this question, I simulate a single particle in a box with dimensions of $(2^5\\text{x}2^5\\text{x}2^5)$. The particle is given an initial velocity of (0,0,0), and initial position in the centre of the cube. The particle has a mass of 10. \n",
    "\n",
    "I initialize the system with a dt interval value of 1, 0.1 for soft. The simulation was performed over 100 iterations. I used the tool imagemagick to carry out the animation in this question, and the rest of the assignment. \n",
    "\n",
    "The particle is indeed motionless, as seen below. I set z=0 to make things simpler, hence the reason why this gif is in 2D. \n"
   ]
  },
  {
   "cell_type": "code",
   "execution_count": 34,
   "metadata": {},
   "outputs": [
    {
     "data": {
      "text/html": [
       "<img src=\"./gifs/Question_1.gif\">"
      ],
      "text/plain": [
       "<IPython.core.display.HTML object>"
      ]
     },
     "execution_count": 34,
     "metadata": {},
     "output_type": "execute_result"
    }
   ],
   "source": [
    "HTML('<img src=\"./gifs/Question_1.gif\">')"
   ]
  },
  {
   "cell_type": "markdown",
   "metadata": {},
   "source": [
    "### Question 2\n",
    "\n",
    "I simulate a 2 particle system in a box with dimensions of $(2^8\\text{x}2^8\\text{x}2^8)$. The particles are given initial velocities of (0.1,0,0) and (-0.1,0,0). They are initially placed slightly apart (in a circular orbit), and the particles both have a mass of 5. \n",
    "\n",
    "I initialize the system with a dt interval value of 1, and 0.1 for soft. The simulation was performed over 200 frames this time. For simplicity, I show the gif in 2D.\n",
    "\n",
    "As evident in the animation below, the particles continue to orbit each other.\n"
   ]
  },
  {
   "cell_type": "code",
   "execution_count": 35,
   "metadata": {},
   "outputs": [
    {
     "data": {
      "text/html": [
       "<img src=\"./gifs/Question_2.gif\">"
      ],
      "text/plain": [
       "<IPython.core.display.HTML object>"
      ]
     },
     "execution_count": 35,
     "metadata": {},
     "output_type": "execute_result"
    }
   ],
   "source": [
    "HTML('<img src=\"./gifs/Question_2.gif\">')"
   ]
  },
  {
   "cell_type": "markdown",
   "metadata": {},
   "source": [
    "### Question 3\n",
    "\n",
    "In this question I will explore the effects of having different boundary conditions: either periodic or non-periodic. The 2D simulations were done with $2^{17}$ particles in a grid with dimensions of $(2^8\\text{x}2^8)$. The initial velocities of the particles were (0,0) and they have mass values of $\\frac{1}{2^{17}}$. The softening value had to be adjusted to 0.8 to avoid infinite forces."
   ]
  },
  {
   "cell_type": "markdown",
   "metadata": {},
   "source": [
    "#### Periodic Boundary Conditions\n",
    "\n",
    "We see that there are clusters of particles that form, and as the simulation runs the clusters group together with other clusters. There is one smaller cluster that is separated from the rest of the larger one near the end of the simulation."
   ]
  },
  {
   "cell_type": "code",
   "execution_count": 36,
   "metadata": {},
   "outputs": [
    {
     "data": {
      "text/html": [
       "<img src=\"./gifs/Question3_Periodic_2D.gif\">"
      ],
      "text/plain": [
       "<IPython.core.display.HTML object>"
      ]
     },
     "execution_count": 36,
     "metadata": {},
     "output_type": "execute_result"
    }
   ],
   "source": [
    "HTML('<img src=\"./gifs/Question3_Periodic_2D.gif\">')"
   ]
  },
  {
   "cell_type": "markdown",
   "metadata": {},
   "source": [
    "#### Non-periodic Boundary Conditions\n",
    "\n",
    "The particles appear to be collapsing inwards since there is no countering force, and once they form a large cluster they are scattered around."
   ]
  },
  {
   "cell_type": "code",
   "execution_count": 37,
   "metadata": {},
   "outputs": [
    {
     "data": {
      "text/html": [
       "<img src=\"./gifs/Question3_Non_Periodic_2D.gif\">"
      ],
      "text/plain": [
       "<IPython.core.display.HTML object>"
      ]
     },
     "execution_count": 37,
     "metadata": {},
     "output_type": "execute_result"
    }
   ],
   "source": [
    "HTML('<img src=\"./gifs/Question3_Non_Periodic_2D.gif\">')"
   ]
  },
  {
   "cell_type": "markdown",
   "metadata": {},
   "source": [
    "The 3D versions of these simulations are found below. The same behaviour is observed, except it looks cooler. The number of particles had to be decreased to $2^{12}$ and $2^{13}$ because my computer couldn't handle anything more than this. "
   ]
  },
  {
   "cell_type": "code",
   "execution_count": 38,
   "metadata": {},
   "outputs": [
    {
     "data": {
      "text/html": [
       "<img src=\"./gifs/Question3_Periodic_3D.gif\">"
      ],
      "text/plain": [
       "<IPython.core.display.HTML object>"
      ]
     },
     "execution_count": 38,
     "metadata": {},
     "output_type": "execute_result"
    }
   ],
   "source": [
    "HTML('<img src=\"./gifs/Question3_Periodic_3D.gif\">')"
   ]
  },
  {
   "cell_type": "code",
   "execution_count": 39,
   "metadata": {},
   "outputs": [
    {
     "data": {
      "text/html": [
       "<img src=\"./gifs/Question3_Non_Periodic_3D.gif\">"
      ],
      "text/plain": [
       "<IPython.core.display.HTML object>"
      ]
     },
     "execution_count": 39,
     "metadata": {},
     "output_type": "execute_result"
    }
   ],
   "source": [
    "HTML('<img src=\"./gifs/Question3_Non_Periodic_3D.gif\">')"
   ]
  },
  {
   "cell_type": "markdown",
   "metadata": {},
   "source": [
    "#### Energies\n",
    "\n",
    "The total energies for both the periodic and non-periodic boundary condition simulations are conserved, despite small oscillations. For the periodic system, the energy seems to be stable. More interesting behaviour is seen in the non-periodic system with respect to the energy. The energy is decreasing as the particles are collapsing, and then once it reaches a minimum the energy increases.\n",
    "\n",
    "The energy plots are shown below:"
   ]
  },
  {
   "cell_type": "code",
   "execution_count": 40,
   "metadata": {},
   "outputs": [
    {
     "data": {
      "text/html": [
       "<img src=\"./energy_plots/Question3_Periodic_Energy_2D.png\">"
      ],
      "text/plain": [
       "<IPython.core.display.HTML object>"
      ]
     },
     "execution_count": 40,
     "metadata": {},
     "output_type": "execute_result"
    }
   ],
   "source": [
    "HTML('<img src=\"./energy_plots/Question3_Periodic_Energy_2D.png\">')"
   ]
  },
  {
   "cell_type": "code",
   "execution_count": 41,
   "metadata": {},
   "outputs": [
    {
     "data": {
      "text/html": [
       "<img src=\"./energy_plots/Question3_Non_Periodic_Energy_2D.png\">"
      ],
      "text/plain": [
       "<IPython.core.display.HTML object>"
      ]
     },
     "execution_count": 41,
     "metadata": {},
     "output_type": "execute_result"
    }
   ],
   "source": [
    "HTML('<img src=\"./energy_plots/Question3_Non_Periodic_Energy_2D.png\">')"
   ]
  },
  {
   "cell_type": "markdown",
   "metadata": {},
   "source": [
    "I also plot the energies from the 3D simulations. Similar behaviour is observed. Note the different orders of magintude on the scales though."
   ]
  },
  {
   "cell_type": "code",
   "execution_count": 42,
   "metadata": {},
   "outputs": [
    {
     "data": {
      "text/html": [
       "<img src=\"./energy_plots/Question3_Periodic_Energy_3D.png\">"
      ],
      "text/plain": [
       "<IPython.core.display.HTML object>"
      ]
     },
     "execution_count": 42,
     "metadata": {},
     "output_type": "execute_result"
    }
   ],
   "source": [
    "HTML('<img src=\"./energy_plots/Question3_Periodic_Energy_3D.png\">')"
   ]
  },
  {
   "cell_type": "code",
   "execution_count": 43,
   "metadata": {},
   "outputs": [
    {
     "data": {
      "text/html": [
       "<img src=\"./energy_plots/Question3_Non_Periodic_Energy_3D.png\">"
      ],
      "text/plain": [
       "<IPython.core.display.HTML object>"
      ]
     },
     "execution_count": 43,
     "metadata": {},
     "output_type": "execute_result"
    }
   ],
   "source": [
    "HTML('<img src=\"./energy_plots/Question3_Non_Periodic_Energy_3D.png\">')"
   ]
  },
  {
   "cell_type": "markdown",
   "metadata": {},
   "source": [
    "### Question 4\n",
    "\n",
    "Now let's start with masses that are derived from a realization of $k^{-3}$, to scale the masses of the particle proportionally to the power spectrum. The initial masses are 40, and they are later scaled to $k^{−3}$. The softening value is set to 10. To run this simulation, I changed the time step to 330 and the number of iterations to 450. \n",
    "\n",
    "When assigning an initial mass density of $k^{−3}$, we get more stable structure formed then when starting with a uniform distribution. This is because some places on the grid already have a higher density at those point.\n",
    "\n",
    "The particles form clusters that appear to be a lot more stable than in the previous problem. They remain in place, but they attract other clusters of particles. The stability comes from the fact that some clusters have a very high mass density, while some have very low mass density. \n",
    "\n",
    "For this question I ran two kinds of simulations. One of them has a log scale, and the other one is linear. In the log scaled version, there appear to be string-like structures forming between particle clusters, which is cool. \n"
   ]
  },
  {
   "cell_type": "code",
   "execution_count": 44,
   "metadata": {},
   "outputs": [
    {
     "data": {
      "text/html": [
       "<img src=\"./gifs/Question_4_log.gif\">"
      ],
      "text/plain": [
       "<IPython.core.display.HTML object>"
      ]
     },
     "execution_count": 44,
     "metadata": {},
     "output_type": "execute_result"
    }
   ],
   "source": [
    "HTML('<img src=\"./gifs/Question_4_log.gif\">')"
   ]
  },
  {
   "cell_type": "markdown",
   "metadata": {},
   "source": [
    "The next simulation is performed with the same initial parameters, except I don't log the scale. We can see that there are only two brighter dots orbiting around each other. These dots represent two large clusters of particles. It looks like we do need the log scale to observe this system properly."
   ]
  },
  {
   "cell_type": "code",
   "execution_count": 45,
   "metadata": {},
   "outputs": [
    {
     "data": {
      "text/html": [
       "<img src=\"./gifs/Question_4.gif\">"
      ],
      "text/plain": [
       "<IPython.core.display.HTML object>"
      ]
     },
     "execution_count": 45,
     "metadata": {},
     "output_type": "execute_result"
    }
   ],
   "source": [
    "HTML('<img src=\"./gifs/Question_4.gif\">')"
   ]
  },
  {
   "cell_type": "markdown",
   "metadata": {},
   "source": [
    "#### Energy"
   ]
  },
  {
   "cell_type": "code",
   "execution_count": 46,
   "metadata": {},
   "outputs": [
    {
     "data": {
      "text/html": [
       "<img src=\"./energy_plots/Question4_Energy_2D.png\">"
      ],
      "text/plain": [
       "<IPython.core.display.HTML object>"
      ]
     },
     "execution_count": 46,
     "metadata": {},
     "output_type": "execute_result"
    }
   ],
   "source": [
    "HTML('<img src=\"./energy_plots/Question4_Energy_2D.png\">')"
   ]
  },
  {
   "cell_type": "markdown",
   "metadata": {},
   "source": [
    "The total energy does not appear to be well conserved in this system. Maybe the particles gain an acceleration from outside forces."
   ]
  },
  {
   "cell_type": "code",
   "execution_count": null,
   "metadata": {},
   "outputs": [],
   "source": []
  }
 ],
 "metadata": {
  "kernelspec": {
   "display_name": "Python 3",
   "language": "python",
   "name": "python3"
  },
  "language_info": {
   "codemirror_mode": {
    "name": "ipython",
    "version": 3
   },
   "file_extension": ".py",
   "mimetype": "text/x-python",
   "name": "python",
   "nbconvert_exporter": "python",
   "pygments_lexer": "ipython3",
   "version": "3.8.3"
  }
 },
 "nbformat": 4,
 "nbformat_minor": 4
}
