{
 "cells": [
  {
   "cell_type": "markdown",
   "metadata": {},
   "source": [
    "### Question 1a"
   ]
  },
  {
   "cell_type": "markdown",
   "metadata": {},
   "source": [
    "From class, we know that\n",
    "\n",
    "$f(x+dx) = f(x) \\pm f'(x)dx \\pm \\frac{1}{2}f''(x)dx^2 \\pm ... \\pm g\\epsilon$\n",
    "\n",
    "where $g\\epsilon$ is due to computer errors. And so we can write:\n",
    "\n",
    "$ f(x+dx) \\approx f'(x) \\pm g\\epsilon$\n",
    "\n",
    "We can approximate\n",
    "\n",
    "$ f(x+dx) \\approx f(x) \\pm f'(x)dx + \\frac{1}{2}f^2(x)dx^2 \\pm \\frac{1}{6}f^3(x)dx^3 + \\frac{1}{24}f^4(x)dx^4 \\pm \\frac{1}{120}f^5(x)dx^5 $\n",
    "\n",
    "$ f(x+2dx) \\approx f(x) \\pm 2f'(x)dx + 2f^2(x)dx^2 \\pm \\frac{4}{3}f^3(x)dx^3 + \\frac{2}{3}f^4(x)dx^4 \\pm \\frac{4}{15}f^5(x)dx^5 $\n",
    "\n",
    "We need to find a linear combination of these two equations by combining them.\n",
    "\n",
    "$ f(x+dx) - f(x-dx) = f(x) + f'(x)dx + \\frac{1}{2}f^2(x)dx^2 + \\frac{1}{6}f^3(x)dx^3 + \\frac{1}{24}f^4(x)dx^4 + \\frac{1}{120}f^5(x)dx^5 - f(x) + f'(x)dx - \\frac{1}{2}f^2(x)dx^2 + \\frac{1}{6}f^3(x)dx^3 - \\frac{1}{24}f^4(x)dx^4 + \\frac{1}{120}f^5(x)dx^5  $ \n",
    "\n",
    "$ f(x+dx) - f(x-dx) = 2f'(x)dx + \\frac{2}{6}f^3(x)dx^3 + \\frac{2}{120}f^5(x)dx^5 $\n",
    "\n",
    "Similarly for 2dx:\n",
    "\n",
    "$ f(x+2dx) - f(x-2dx) = 4f'(x)dx + \\frac{8}{3}f^3(x)dx^3 + \\frac{8}{15}f^5(x)dx^5 $\n",
    "\n",
    "We can then say\n",
    "\n",
    "$ a(f(x+dx) - f(x-dx)) + b(f(x+2dx) - f(x-2dx)) = f'(x)dx + cf^5(x)dx^5 $\n",
    "\n",
    "$ a[2f'(x)dx + \\frac{2}{6}f^3(x)dx^3 + \\frac{2}{120}f^5(x)dx^5] + b[4f'(x)dx + \\frac{8}{3}f^3(x)dx^3 + \\frac{8}{15}f^5(x)dx^5] = f'(x)dx + cf^5(x)dx^5 $\n",
    "\n",
    "Only $f'(x)$ and $f^5(x)$ terms remain; the $f^3(x)$ term vanishes.\n",
    "\n",
    "$ \\frac{2}{6}af^3(x)dx^3 = \\frac{-8}{3}bf^3(x)dx^3 $, so $a = -8b$ and $c = \\frac{2b}{5}$\n",
    "\n",
    "$ 16f'(x)dx + \\frac{16}{6}f^3(x)dx^3 + \\frac{16}{120}f^5(x)dx^5 - 4f'(x)dx - \\frac{8}{3}f^3(x)dx^3 -\\frac{8}{15}f^5(x)dx^5 $\n",
    "\n",
    "$ = 12f'(x)dx - \\frac{6}{15}f^5(x)dx^5$\n",
    "\n",
    "The derivative can be approximated by:\n",
    "\n",
    "$ f'(x) = \\frac{8(f(x+dx) - f(x-dx)) - f(x+2dx) - f(x-2dx)}{12dx} - \\frac{1}{30}f^5(x)dx^5 $\n",
    "\n",
    "The first term is the first derivative, and the second term is the error term.\n"
   ]
  },
  {
   "cell_type": "markdown",
   "metadata": {},
   "source": [
    "### Question 1b"
   ]
  },
  {
   "cell_type": "markdown",
   "metadata": {},
   "source": [
    "To find the optimal dx, we must consider machine precision. The error in the derivative can be represented as\n",
    "\n",
    "$ \\tilde{f}(x) = f(x)(1+g\\epsilon) $, where $\\tilde{f}(x)$ is the binary representation of the function that the machine receives, and $g$ is a random number (Gaussian) and $\\epsilon$ is the machine precision. The $f(x)$ represents the true value.\n",
    "\n",
    "Taking results from 1a, we must find the difference between $f'(x)$ and $\\tilde{f}(x)$.\n",
    "\n",
    "$ \\tilde{f}(x) - f'(x) = f'_{error}(x) $ \n",
    "\n",
    "$ f'_{error}(x) = f'(x) - \\frac{8(\\tilde{f}(x+dx) - \\tilde{f}(x-dx)) - \\tilde{f}(x+2dx) - \\tilde{f}(x-2dx)}{12dx}$\n",
    "\n",
    "$ f'_{error}(x) = f'(x) - \\frac{8({f}(x+dx) - {f}(x-dx)) - {f}(x+2dx) - {f}(x-2dx)}{12dx} - \\frac{8\\epsilon({f}(x+dx) - {f}(x-dx)) - \\epsilon{f}(x+2dx) - \\epsilon{f}(x-2dx)}{12dx}$\n",
    "\n",
    "$ f'_{error}(x) = \\frac{1}{30}f^5(x)dx^5 + \\frac{18}{12}\\epsilon f(x) $\n",
    "\n",
    "$ df_{error} = \\frac{1}{30}f^5(x)dx^4 + \\frac{3\\epsilon}{2dx}f(x) $\n",
    "\n",
    "Get minimum by differentiating $df_{error}$ with respect to $dx$ and set it to 0.\n",
    "\n",
    "$ \\frac{4}{30}f^5(x)dx^3 -\\frac{3\\epsilon}{2dx^2}f(x)$\n",
    "\n",
    "$ \\frac{4}{30}f^5(x)dx^3 = \\frac{3\\epsilon}{2dx^2}f(x) $\n",
    "\n",
    "$ \\frac{8}{90\\epsilon}f^4(x) = \\frac{1}{dx^5} $\n",
    "\n",
    "$ dx = (\\frac{45\\epsilon f(x)}{4f^5(x)})^{\\frac{1}{5}} $\n",
    "\n"
   ]
  },
  {
   "cell_type": "code",
   "execution_count": 3,
   "metadata": {},
   "outputs": [],
   "source": [
    "import numpy as np\n",
    "import matplotlib.pyplot as plt"
   ]
  },
  {
   "cell_type": "code",
   "execution_count": 27,
   "metadata": {},
   "outputs": [],
   "source": [
    "#Define an exponential function exp(x) and exp(0.01*x) and their respective derivatives\n",
    "def f1(x):\n",
    "    return np.exp(x)\n",
    "\n",
    "def f2(x):\n",
    "    return np.exp(0.01*x)\n",
    "\n",
    "def f1_deriv(x, dx):\n",
    "    #Derivative of f1\n",
    "    result = (8*(f1(x+dx)-f1(x-dx))-(f1(x+2.0*dx)-f1(x-2.0*dx)))/(12*dx)\n",
    "    return result\n",
    "\n",
    "def f2_deriv(x, dx):\n",
    "    #Derivative of f2\n",
    "    result = (8*(f2(x+dx)-f2(x-dx))-(f2(x+2.0*dx)-f2(x-2.0*dx)))/(12*dx)\n",
    "    return result\n",
    "\n",
    "def exp_deriv(x, a, n):\n",
    "    #Derivative of exp function\n",
    "    return a**n*np.exp(a*x)\n",
    "\n",
    "#Define optimal dx\n",
    "def optimal_dx(f, ex, a, n, x, e=1e-16):\n",
    "    dx = (45.0*f(x)*e/(4.0*ex(x, a, n)))**(1.0/5.0)\n",
    "    return dx"
   ]
  },
  {
   "cell_type": "code",
   "execution_count": 28,
   "metadata": {},
   "outputs": [],
   "source": [
    "#Define the x axis\n",
    "dx = np.linspace(1.0e-10, 1.0, 100000, dtype='float64')\n",
    "\n",
    "#Values for both derivative functions\n",
    "d1 = f1_deriv(1.0, dx)\n",
    "d2 = f2_deriv(1.0, dx)"
   ]
  },
  {
   "cell_type": "code",
   "execution_count": 29,
   "metadata": {},
   "outputs": [],
   "source": [
    "#Define the error on the derivative functions\n",
    "err1 = np.abs(np.e - d1)\n",
    "err2 = np.abs(np.exp(0.01)*0.01 - d2)"
   ]
  },
  {
   "cell_type": "code",
   "execution_count": 30,
   "metadata": {},
   "outputs": [
    {
     "data": {
      "image/png": "[encoded data removed]",
      "text/plain": [
       "<Figure size 432x288 with 1 Axes>"
      ]
     },
     "metadata": {
      "needs_background": "light"
     },
     "output_type": "display_data"
    },
    {
     "name": "stdout",
     "output_type": "stream",
     "text": [
      "min dx for e^x:  [0.00102384 0.00102384 0.00102384 ... 0.00102384 0.00102384 0.00102384]\n",
      "min dx for e^0.01x:  [0.10238363 0.10238363 0.10238363 ... 0.10238363 0.10238363 0.10238363]\n"
     ]
    }
   ],
   "source": [
    "#Plotting the error on the derivatives as a function of dx\n",
    "plt.plot(dx, err1, '-', markersize='1', label = 'Error in derivative of '+r'$e^{x}$', color='red')\n",
    "plt.plot(dx, err2, '-', markersize='1', label = 'Error in derivative of '+r'$e^{0.01x}$', color='black')\n",
    "\n",
    "plt.xscale('log')\n",
    "plt.yscale('log')\n",
    "\n",
    "plt.xlabel('dx')\n",
    "plt.ylabel('Error in Derivative')\n",
    "\n",
    "plt.legend()\n",
    "plt.show()\n",
    "\n",
    "#Printing the optimal dx values for both exponential functions\n",
    "print('min dx for e^x: ', optimal_dx(f1, exp_deriv, 1.0, 1, dx))\n",
    "print('min dx for e^0.01x: ', optimal_dx(f2, exp_deriv, 0.01, 5, dx))"
   ]
  },
  {
   "cell_type": "markdown",
   "metadata": {},
   "source": [
    "For double precision, $\\epsilon$ is $~10^{-16}$ (float64). By evaluating $e^x$ and $e^{0.01x}$ at x = 1.0, we expect dx minima at about $10^{-3}$ and $10^{-1}$. This is observed in the plot shown above."
   ]
  },
  {
   "cell_type": "code",
   "execution_count": null,
   "metadata": {},
   "outputs": [],
   "source": []
  }
 ],
 "metadata": {
  "kernelspec": {
   "display_name": "Python 3",
   "language": "python",
   "name": "python3"
  },
  "language_info": {
   "codemirror_mode": {
    "name": "ipython",
    "version": 3
   },
   "file_extension": ".py",
   "mimetype": "text/x-python",
   "name": "python",
   "nbconvert_exporter": "python",
   "pygments_lexer": "ipython3",
   "version": "3.8.3"
  }
 },
 "nbformat": 4,
 "nbformat_minor": 4
}
