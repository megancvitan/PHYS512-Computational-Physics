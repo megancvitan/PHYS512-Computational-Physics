{
 "cells": [
  {
   "cell_type": "markdown",
   "metadata": {},
   "source": [
    "### Question 2"
   ]
  },
  {
   "cell_type": "code",
   "execution_count": 103,
   "metadata": {},
   "outputs": [],
   "source": [
    "import numpy as np\n",
    "from matplotlib import pyplot as plt\n",
    "from scipy import interpolate"
   ]
  },
  {
   "cell_type": "code",
   "execution_count": 104,
   "metadata": {},
   "outputs": [],
   "source": [
    "#Load data from csv file\n",
    "temperature, voltage, der = np.loadtxt(\"lakeshore.csv\", delimiter = ',', unpack = True)"
   ]
  },
  {
   "cell_type": "code",
   "execution_count": 105,
   "metadata": {},
   "outputs": [
    {
     "data": {
      "image/png": "[encoded data removed]",
      "text/plain": [
       "<Figure size 432x288 with 1 Axes>"
      ]
     },
     "metadata": {
      "needs_background": "light"
     },
     "output_type": "display_data"
    }
   ],
   "source": [
    "#Perform interpolation on arbitrary voltage values to return a temperature value\n",
    "\n",
    "#Reorder the voltage data so the numbers are in increasing order\n",
    "x = voltage[::-1]\n",
    "y = temperature[::-1]\n",
    "d = der[::1]\n",
    "\n",
    "xx = np.linspace(x[0], x[-1], 2000)\n",
    "\n",
    "spln = interpolate.splrep(x, y)\n",
    "yy = interpolate.splev(xx, spln)\n",
    "\n",
    "plt.clf()\n",
    "plt.plot(x, y, \".\", markersize = \"6\", color = \"red\")\n",
    "plt.plot(xx, yy)\n",
    "plt.xlabel(\"Voltage (V)\")\n",
    "plt.ylabel(\"Temperature\") #No unit specified\n",
    "plt.savefig('diode_spline.png')\n",
    "\n",
    "plt.show()"
   ]
  },
  {
   "cell_type": "code",
   "execution_count": 106,
   "metadata": {},
   "outputs": [],
   "source": [
    "#Return the temperature for any given voltage value in the specified range\n",
    "def inter(point):\n",
    "    result = np.interp(point, xx, yy)\n",
    "    \n",
    "    return result"
   ]
  },
  {
   "cell_type": "code",
   "execution_count": 107,
   "metadata": {},
   "outputs": [],
   "source": [
    "#Find the error in the interpolation\n",
    "\n",
    "#Derivative approximation from 1a\n",
    "def f_deriv(x, dx):\n",
    "    #Differentiating inter() with respect to voltage\n",
    "    result = (8*(inter(x+dx)-inter(x-dx))-(inter(x+2.0*dx)-inter(x-2.0*dx)))/(12*dx)\n",
    "    \n",
    "    return result\n",
    "\n",
    "#Finding the closest x value to the given voltage value\n",
    "def x_diff(value):\n",
    "    #Get the difference between the every value in the x value list and the specified voltage\n",
    "    dif = np.abs(value - x)\n",
    "    #The index at the lowest value in the list\n",
    "    #This must be the voltage value nearest to the given x\n",
    "    ind_close = list(dif).index(min(dif))\n",
    "    close = x[ind_close]\n",
    "    \n",
    "    #Return the x value difference and its index\n",
    "    return np.abs(value - close), ind_close\n",
    "\n",
    "#Define the error on the interpolation\n",
    "def err(val):\n",
    "    #We already have derivative values provided. Compute the difference between the two values\n",
    "    #Guess the dx input to be 0.001, since this was found to be the optimal dx in Problem 1\n",
    "    dv, i = x_diff(val)\n",
    "    #Take the difference between the calculated derivative and the values from lakeshore.csv\n",
    "    der_diff = np.abs(f_deriv(val, 0.001) - d[i])\n",
    "    \n",
    "    return der_diff*dv"
   ]
  },
  {
   "cell_type": "code",
   "execution_count": 108,
   "metadata": {},
   "outputs": [
    {
     "name": "stdout",
     "output_type": "stream",
     "text": [
      "Temperature value at 0.2783V: 420.0488 +/- 0.0463\n",
      "Temperature value at 0.657V: 257.299 +/- 2.512\n",
      "Temperature value at 1.48V: 6.96 +/- 0.03\n",
      "Temperature value at 1.58V: 4.15 +/- 0.05\n"
     ]
    }
   ],
   "source": [
    "#Testing inter() and the associated errors from err()\n",
    "print('Temperature value at 0.2783V:', np.round(inter(0.2783), 4), '+/-', np.round(err(0.2783), 4))\n",
    "print('Temperature value at 0.657V:', np.round(inter(0.657), 3), '+/-', np.round(err(0.657), 3))\n",
    "print('Temperature value at 1.48V:', np.round(inter(1.48), 2), '+/-', np.round(err(1.48), 2))\n",
    "print('Temperature value at 1.58V:', np.round(inter(1.58), 2), '+/-', np.round(err(1.58), 2))"
   ]
  }
 ],
 "metadata": {
  "kernelspec": {
   "display_name": "Python 3",
   "language": "python",
   "name": "python3"
  },
  "language_info": {
   "codemirror_mode": {
    "name": "ipython",
    "version": 3
   },
   "file_extension": ".py",
   "mimetype": "text/x-python",
   "name": "python",
   "nbconvert_exporter": "python",
   "pygments_lexer": "ipython3",
   "version": "3.8.3"
  }
 },
 "nbformat": 4,
 "nbformat_minor": 4
}
