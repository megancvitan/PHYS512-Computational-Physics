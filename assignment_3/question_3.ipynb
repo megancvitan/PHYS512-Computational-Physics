{
 "cells": [
  {
   "cell_type": "code",
   "execution_count": 1,
   "metadata": {},
   "outputs": [],
   "source": [
    "import numpy as np\n",
    "from matplotlib import pyplot as plt\n",
    "from scipy import interpolate\n",
    "from CAMB import camb\n",
    "%matplotlib inline\n",
    "%config InlineBackend.figure_format='retina'"
   ]
  },
  {
   "cell_type": "code",
   "execution_count": 2,
   "metadata": {},
   "outputs": [],
   "source": [
    "wmap = np.loadtxt('wmap_tt_spectrum_9yr_v5.txt') #Extracting the data\n",
    "multipoleIndex = wmap[:,0] #ydata\n",
    "PP = wmap[:,1] #xdata\n",
    "errPP = wmap[:,2] #Error on x data\n",
    "errInst = wmap[:,3]\n",
    "errCos = wmap[:,4]\n",
    "pars = [multipoleIndex,PP,errPP,errInst,errCos]"
   ]
  },
  {
   "cell_type": "code",
   "execution_count": 15,
   "metadata": {},
   "outputs": [],
   "source": [
    "#Defining the fit parameters\n",
    "#[hubble constant, physical baryon density, cold dark matter density, optical depth, \n",
    "# primordial amplitude of fluctuations, slope of primordial power law]\n",
    "ppp = np.asarray([65, 0.02, 0.1, 2e-09, 0.96])"
   ]
  },
  {
   "cell_type": "code",
   "execution_count": 16,
   "metadata": {},
   "outputs": [],
   "source": [
    "def get_spectrum(pars,lmax=2000, fixed_tau=None):\n",
    "    #print('pars are ',pars)\n",
    "    if fixed_tau is None:\n",
    "        H0=pars[0]\n",
    "        ombh2=pars[1]\n",
    "        omch2=pars[2]\n",
    "        tau=pars[3]\n",
    "        As=pars[4]\n",
    "        ns=pars[5]\n",
    "    else: \n",
    "        H0=pars[0]\n",
    "        ombh2=pars[1]\n",
    "        omch2=pars[2]\n",
    "        tau=fixed_tau\n",
    "        As=pars[3]\n",
    "        ns=pars[4]\n",
    "    pars=camb.CAMBparams()\n",
    "    pars.set_cosmology(H0=H0,ombh2=ombh2,omch2=omch2,mnu=0.06,omk=0,tau=tau)\n",
    "    pars.InitPower.set_params(As=As,ns=ns,r=0)\n",
    "    pars.set_for_lmax(lmax,lens_potential_accuracy=0)\n",
    "    results=camb.get_results(pars)\n",
    "    powers=results.get_cmb_power_spectra(pars,CMB_unit='muK')\n",
    "    cmb=powers['total']\n",
    "    tt=cmb[:,0]\n",
    "    return tt"
   ]
  },
  {
   "cell_type": "code",
   "execution_count": 17,
   "metadata": {},
   "outputs": [],
   "source": [
    "#Define function to get gradient\n",
    "#Taking the derivative of the spectrum (y data) by varying every parameter \n",
    "def derivative(x,y,p,dx,tau):\n",
    "    #Define the matrix of to store the values\n",
    "    gradient = np.zeros([len(x),len(p)])\n",
    "    for i in range(len(p)):\n",
    "        p_dx = p.copy() #Copy all of the input parameters\n",
    "        p_derr = p_dx[i]*dx #Small variation of the parameter\n",
    "        p_dx[i] = p_dx[i] + p_derr #Adding the derr to the parameter\n",
    "        dx_1 = y(p_dx,fixed_tau=tau)[2:len(x)+2]\n",
    "        \n",
    "        p_dx[i] = p_dx[i] - 2*p_derr #Do the same but for the other direction\n",
    "        dx_2 = y(p_dx,fixed_tau=tau)[2:len(x)+2]\n",
    "        \n",
    "        deriv = (dx_1-dx_2)/(2*p_derr) #The derivative is the difference between the new parameters/2*variation\n",
    "        gradient[:,i] = np.asarray(deriv) #Turn matrix into np array\n",
    "    return gradient"
   ]
  },
  {
   "cell_type": "code",
   "execution_count": 24,
   "metadata": {},
   "outputs": [],
   "source": [
    "#We want to get the best fit values for the other parameters using Newton’s method/Levenberg Marquardt minimizer\n",
    "def newtons_method(x,y,p,errP,tau):\n",
    "    #Take the derivative of the function we are given (spectrum)\n",
    "    grad = derivative(x,y,p,0.001,tau)\n",
    "    #Get the new parameters\n",
    "    p_new = p.copy()\n",
    "    #Assume that we are far from the solution and start with a large chi^2\n",
    "    chi_sq = 10000\n",
    "    #Set the damping parameter to a very low value\n",
    "    damp = 0.0001\n",
    "    \n",
    "    for j in range(100):\n",
    "        guess = y(p_new,fixed_tau=tau)[2:len(x)+2] #Compute predicted y values\n",
    "        residual = x - guess \n",
    "        chi_sq_new = (residual**2/errP**2).sum() #Define a new chi^2\n",
    "        cond = chi_sq - chi_sq_new #New chi^2 to compare\n",
    "        \n",
    "        #If we are approaching the solution\n",
    "        if cond>0 and cond<0.001:\n",
    "            print (f\"The final chi^2 is {chi_sq_new}\")\n",
    "            p = p_new.copy() #Copy new parameters\n",
    "            grad = derivative(x,y,p,0.001,tau) #Define the gradient with a fixed optical length\n",
    "            N = np.diag(1/errP**2) #Extract a diagonal or construct a diagonal array\n",
    "            covar = np.dot(grad.transpose(),N) #Dot product of two arrays\n",
    "            covar = np.dot(covar,grad)\n",
    "            covar = np.linalg.inv(covar)\n",
    "            err = np.sqrt(np.diag(covar))\n",
    "            break\n",
    "        #If the new chi^2 is larger than the old one, adjust the damping parameter\n",
    "        elif chi_sq_new > chi_sq: \n",
    "            damp = 100*damp #Make the new damping factor have a larger effect on the parameters\n",
    "            p_new = p.copy() \n",
    "        else:\n",
    "            #If the new chi^2 is the same as the old one, decrease the damping factor\n",
    "            chi_sq = chi_sq_new\n",
    "            p = p_new.copy()\n",
    "            damp = damp/10\n",
    "            grad = derivative(x,y,p,0.001,tau) #Get the gradient again with a fixed optical depth\n",
    "        \n",
    "        res = np.matrix(residual).transpose() #Get the prediction\n",
    "        grad = np.matrix(grad) #Get the gradient, A_m\n",
    "        lhs = grad.transpose()*np.diag(1/errP**2)*grad #np.diag(1/errP**2) is noise\n",
    "        LHS  = lhs+damp*np.diag(np.diag(lhs))\n",
    "        rhs = grad.transpose()*np.diag(1/errP**2)*res\n",
    "        dp = np.linalg.inv(LHS)*(rhs) #delta_m\n",
    "        #For every parameter, update it\n",
    "        for k in range(len(p)):\n",
    "            p_new[k] = p_new[k] + dp[k]\n",
    "        print (f\"We are currently in iteration {j}; the chi-squared is {chi_sq}\")\n",
    "        print (damp,'\\n')\n",
    "\n",
    "    return p,covar,err"
   ]
  },
  {
   "cell_type": "code",
   "execution_count": 25,
   "metadata": {},
   "outputs": [
    {
     "name": "stdout",
     "output_type": "stream",
     "text": [
      "We are currently in iteration 0; the chi-squared is 1588.2376532931526\n",
      "1e-05 \n",
      "\n",
      "We are currently in iteration 1; the chi-squared is 1234.8043585874339\n",
      "1.0000000000000002e-06 \n",
      "\n",
      "We are currently in iteration 2; the chi-squared is 1227.9369042959056\n",
      "1.0000000000000002e-07 \n",
      "\n",
      "We are currently in iteration 3; the chi-squared is 1227.9356356155058\n",
      "1.0000000000000002e-08 \n",
      "\n",
      "The final chi^2 is 1227.935633881174\n"
     ]
    }
   ],
   "source": [
    "params,covar,err = newtons_method(wmap[:,1],get_spectrum,ppp,wmap[:,2],0.05)"
   ]
  },
  {
   "cell_type": "code",
   "execution_count": null,
   "metadata": {},
   "outputs": [],
   "source": []
  },
  {
   "cell_type": "code",
   "execution_count": null,
   "metadata": {},
   "outputs": [],
   "source": []
  }
 ],
 "metadata": {
  "kernelspec": {
   "display_name": "Python 3",
   "language": "python",
   "name": "python3"
  },
  "language_info": {
   "codemirror_mode": {
    "name": "ipython",
    "version": 3
   },
   "file_extension": ".py",
   "mimetype": "text/x-python",
   "name": "python",
   "nbconvert_exporter": "python",
   "pygments_lexer": "ipython3",
   "version": "3.8.3"
  }
 },
 "nbformat": 4,
 "nbformat_minor": 4
}
