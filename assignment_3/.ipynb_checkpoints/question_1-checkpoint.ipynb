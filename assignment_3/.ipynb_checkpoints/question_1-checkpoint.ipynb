{
 "cells": [
  {
   "cell_type": "code",
   "execution_count": 65,
   "metadata": {},
   "outputs": [],
   "source": [
    "import numpy as np\n",
    "from matplotlib import pyplot as plt\n",
    "import scipy as sc\n",
    "from CAMB import camb\n",
    "%matplotlib inline\n",
    "%config InlineBackend.figure_format='retina'"
   ]
  },
  {
   "cell_type": "code",
   "execution_count": 66,
   "metadata": {},
   "outputs": [],
   "source": [
    "#Photogrammetry data for a prototype telescope dish\n",
    "dish = np.loadtxt('dish_zenith.txt')\n",
    "x_data = dish[:,0]\n",
    "y_data = dish[:,1]\n",
    "z_data = dish[:,2]"
   ]
  },
  {
   "cell_type": "markdown",
   "metadata": {},
   "source": [
    "### Question 1 a)"
   ]
  },
  {
   "cell_type": "code",
   "execution_count": 67,
   "metadata": {},
   "outputs": [],
   "source": [
    "#For a rotationally symmetric paraboloid: solve for a,x0,y0,z0 parameters\n",
    "def paraboloid(xydata,x0,y0,z0,a):\n",
    "    #z = a*((x-x0)**2-(y-y0)**2)+z0\n",
    "    x = xydata[0]\n",
    "    y = xydata[1]\n",
    "    X = (x-x0)**2\n",
    "    Y = (y-y0)**2\n",
    "    return a*(X+Y)+z0"
   ]
  },
  {
   "cell_type": "markdown",
   "metadata": {},
   "source": [
    "### Question 1 b)"
   ]
  },
  {
   "cell_type": "code",
   "execution_count": 68,
   "metadata": {},
   "outputs": [],
   "source": [
    "#Fitting the function with the given data\n",
    "data = [x_data,y_data]\n",
    "popt,pcov = sc.optimize.curve_fit(paraboloid,data,z_data,method='lm')"
   ]
  },
  {
   "cell_type": "code",
   "execution_count": 69,
   "metadata": {},
   "outputs": [
    {
     "name": "stdout",
     "output_type": "stream",
     "text": [
      "The best fit parameters [x0,y0,z0,a] are: [-1.36049549e+00  5.82214759e+01 -1.51287721e+03  1.66704455e-04]\n"
     ]
    }
   ],
   "source": [
    "print('The best fit parameters [x0,y0,z0,a] are:',popt)"
   ]
  },
  {
   "cell_type": "markdown",
   "metadata": {},
   "source": [
    "### Question 1 c)\n",
    "The pcov matrix is the diagonal matrix defined as the noise matrix. From pcov, we can estimate the uncertainty on the data and on the parameters by taking the square root of the diagonal elements. "
   ]
  },
  {
   "cell_type": "code",
   "execution_count": 70,
   "metadata": {},
   "outputs": [
    {
     "name": "stdout",
     "output_type": "stream",
     "text": [
      "The uncertainties are: [3.76684545e-01 3.59303881e-01 3.13458723e-01 6.47923850e-08]\n",
      "The uncertainty in a is: 6.47923850e-08\n"
     ]
    }
   ],
   "source": [
    "print('The uncertainties are:', np.sqrt(np.diag(pcov)))\n",
    "print('The uncertainty in a is: 6.47923850e-08')"
   ]
  },
  {
   "cell_type": "markdown",
   "metadata": {},
   "source": [
    "Take the paraboloid equation that we were given and find how the parameter a is related to the focal point.\n",
    "\n",
    "$x^2 = 4fz$ through (0,0)\n",
    "\n",
    "$(x-x_0)^2 = 4f(z-z_0)$ if it does not go through (0,0)\n",
    "\n",
    "$\\frac{(x-x_0)^2}{4f} + z_0 = z$\n",
    "\n",
    "$\\frac{z-z_0}{a} = (x-x_0)^2$, so then we can say that\n",
    "\n",
    "$4f(z-z_0) = (x-x_0)^2$, and so\n",
    "\n",
    "$f = \\frac{1}{4a}$"
   ]
  },
  {
   "cell_type": "code",
   "execution_count": 71,
   "metadata": {},
   "outputs": [],
   "source": [
    "def focal_length(a):\n",
    "    f = 1/(4*a)\n",
    "    f = f/1000\n",
    "    return f"
   ]
  },
  {
   "cell_type": "markdown",
   "metadata": {},
   "source": [
    "Finding the uncertainty on a by propagation of error.\n",
    "\n",
    "$\\sqrt{(error*\\frac{-1}{4a^2})^2}$"
   ]
  },
  {
   "cell_type": "code",
   "execution_count": 72,
   "metadata": {},
   "outputs": [
    {
     "name": "stdout",
     "output_type": "stream",
     "text": [
      "The focal point that we get is: 1.499659984006379 +/- 0.0005828671296214702\n"
     ]
    }
   ],
   "source": [
    "err = np.sqrt(np.diag(pcov))[3]*1000\n",
    "taylor_exp = -1/(4*(popt[3]*1000)**2)\n",
    "a_err = np.sqrt((err*taylor_exp)**2)\n",
    "\n",
    "print('The focal point that we get is:', focal_length(popt[3]), '+/-', a_err)"
   ]
  },
  {
   "cell_type": "code",
   "execution_count": null,
   "metadata": {},
   "outputs": [],
   "source": []
  }
 ],
 "metadata": {
  "kernelspec": {
   "display_name": "Python 3",
   "language": "python",
   "name": "python3"
  },
  "language_info": {
   "codemirror_mode": {
    "name": "ipython",
    "version": 3
   },
   "file_extension": ".py",
   "mimetype": "text/x-python",
   "name": "python",
   "nbconvert_exporter": "python",
   "pygments_lexer": "ipython3",
   "version": "3.8.3"
  }
 },
 "nbformat": 4,
 "nbformat_minor": 4
}
