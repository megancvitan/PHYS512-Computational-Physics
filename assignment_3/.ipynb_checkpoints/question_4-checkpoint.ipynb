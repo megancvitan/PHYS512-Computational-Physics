{
 "cells": [
  {
   "cell_type": "code",
   "execution_count": 1,
   "metadata": {},
   "outputs": [],
   "source": [
    "import numpy as np\n",
    "from matplotlib import pyplot as plt\n",
    "from scipy import interpolate\n",
    "from CAMB import camb\n",
    "%matplotlib inline\n",
    "%config InlineBackend.figure_format='retina'"
   ]
  },
  {
   "cell_type": "code",
   "execution_count": 2,
   "metadata": {},
   "outputs": [],
   "source": [
    "wmap = np.loadtxt('wmap_tt_spectrum_9yr_v5.txt') #Extracting the data\n",
    "multipoleIndex = wmap[:,0] #ydata\n",
    "PP = wmap[:,1] #xdata\n",
    "errPP = wmap[:,2] #Error on x data\n",
    "errInst = wmap[:,3]\n",
    "errCos = wmap[:,4]\n",
    "pars = [multipoleIndex,PP,errPP,errInst,errCos]"
   ]
  },
  {
   "cell_type": "code",
   "execution_count": 3,
   "metadata": {},
   "outputs": [],
   "source": [
    "def get_spectrum(pars,lmax=2000, fixed_tau=None):\n",
    "    #print('pars are ',pars)\n",
    "    if fixed_tau is None:\n",
    "        H0=pars[0]\n",
    "        ombh2=pars[1]\n",
    "        omch2=pars[2]\n",
    "        tau=pars[3]\n",
    "        As=pars[4]\n",
    "        ns=pars[5]\n",
    "    else: \n",
    "        H0=pars[0]\n",
    "        ombh2=pars[1]\n",
    "        omch2=pars[2]\n",
    "        tau=fixed_tau\n",
    "        As=pars[3]\n",
    "        ns=pars[4]\n",
    "    pars=camb.CAMBparams()\n",
    "    pars.set_cosmology(H0=H0,ombh2=ombh2,omch2=omch2,mnu=0.06,omk=0,tau=tau)\n",
    "    pars.InitPower.set_params(As=As,ns=ns,r=0)\n",
    "    pars.set_for_lmax(lmax,lens_potential_accuracy=0)\n",
    "    results=camb.get_results(pars)\n",
    "    powers=results.get_cmb_power_spectra(pars,CMB_unit='muK')\n",
    "    cmb=powers['total']\n",
    "    tt=cmb[:,0]\n",
    "    return tt"
   ]
  },
  {
   "cell_type": "markdown",
   "metadata": {},
   "source": [
    "Markov-chain Monte Carlo where we fit our 6 parameters.\n",
    "Note that the optical depth tau cannot be negative; avoid sampling a negative tau."
   ]
  },
  {
   "cell_type": "code",
   "execution_count": 4,
   "metadata": {},
   "outputs": [],
   "source": [
    "#Draw samples of correlated data from a covariance matrix\n",
    "#Taken from Prof. Sievers\n",
    "def take_step_cov(covmat):\n",
    "    mychol = np.linalg.cholesky(covmat)\n",
    "    return np.dot(mychol,np.random.randn(covmat.shape[0]))\n",
    "\n",
    "#Running an MCMC\n",
    "def MCMC(x,y,p,errP,nstep,pcov):\n",
    "        step = 0 #A counter for the step number\n",
    "        chains = np.zeros([nstep,len(p)]) #The total number of chains to run: given\n",
    "        chi_sq_vec = np.zeros(nstep) #A vector of the chi^2s\n",
    "        chi_sq = np.sum((x-y(p)[2:len(x)+2])**2/errP**2) #Computing the chi^2\n",
    "        scale = 0.5 #Similar to the damping factor in question 3\n",
    "        for i in range(nstep): #For every \"guess\" we take\n",
    "            p_new = p + take_step_cov(pcov)*scale #Slightly vary the parameter that we are at\n",
    "            if p_new[3]>0: #Ignoring the negative params (tau, in this case) because they are unphysical\n",
    "                m_new = y(p_new)[2:len(x)+2] #Get the y values for this new parameter\n",
    "                new_chi_sq = np.sum((x-m_new)**2/errP**2) #Get the new chi^2 with this new parameter\n",
    "                cond = new_chi_sq - chi_sq #Compute the difference between the old chi^2 and the new one\n",
    "                prob = np.exp(-0.5*cond) #The gaussian prediction of what the parameter is supposed to be\n",
    "                accept = np.random.rand(1)<prob #Deciding if the mcmc will go to that point through probability\n",
    "                if accept: #If the mcmc goes to the point\n",
    "                    #print('The step has been accepted')\n",
    "                    p = p_new #Get the new parameter\n",
    "                    m = m_new #And y value\n",
    "                    chi_sq = new_chi_sq #And chi^2\n",
    "                    step+=1 #Increase the step by one \n",
    "                    print('We are at step', step, 'and the chi^2 is', chi_sq)\n",
    "                    #print('The new chi^2 is', chi_sq)\n",
    "                else:\n",
    "                    #print('The step has been rejected; choose another step size/direction')\n",
    "            chains[i,:] = p #Collect all of the parameters that we generate in the chain\n",
    "            chi_sq_vec[i] = chi_sq #Collect the new chi^2 values too\n",
    "        return chains,chi_sq_vec,p"
   ]
  },
  {
   "cell_type": "code",
   "execution_count": 5,
   "metadata": {},
   "outputs": [],
   "source": [
    "#Getting the covariance matrix from question 3, with the unspecified tau\n",
    "pcov = [[ 3.15489588e+00,  5.33722850e-04, -5.12914585e-03,  2.29292184e-02,\n",
    "   6.22487886e-11,  1.48144365e-02], [ 5.33722850e-04,  2.81921932e-07, -9.72381229e-08, -1.06025541e-05,\n",
    "  -3.38511692e-14,  5.85014193e-06], [-5.12914585e-03, -9.72381229e-08,  1.45665908e-05, -9.72396659e-05,\n",
    "  -2.61420053e-13, -1.19449106e-05], [ 2.29292184e-02, -1.06025541e-05, -9.72396659e-05,  1.73885293e-02,\n",
    "   6.28131304e-11, -4.43534392e-04], [ 6.22487886e-11, -3.38511692e-14, -2.61420053e-13,  6.28131304e-11,\n",
    "   2.27674378e-19, -1.54487340e-12], [ 1.48144365e-02,  5.85014193e-06, -1.19449106e-05, -4.43534392e-04,\n",
    "  -1.54487340e-12,  1.77988288e-04]]\n",
    "pcov = np.asarray(pcov)"
   ]
  },
  {
   "cell_type": "code",
   "execution_count": null,
   "metadata": {},
   "outputs": [],
   "source": [
    "params = np.asarray([65,0.02,0.1,0.05,2e-9,0.96]) \n",
    "chains,chi_sq,p = MCMC(PP,get_spectrum,params,errPP,5000,pcov)"
   ]
  },
  {
   "cell_type": "code",
   "execution_count": null,
   "metadata": {},
   "outputs": [],
   "source": [
    "file_name = 'mcmc_data_chains.txt'\n",
    "file_name_1 = 'mcmc_data_chi_sq.txt'\n",
    "file_name_2 = 'mcmc_data_params.txt'\n",
    "\n",
    "np.savetxt(file_name,chains)\n",
    "np.savetxt(file_name_1,chi_sq)\n",
    "np.savetxt(file_name_2,p)"
   ]
  },
  {
   "cell_type": "code",
   "execution_count": null,
   "metadata": {},
   "outputs": [],
   "source": []
  }
 ],
 "metadata": {
  "kernelspec": {
   "display_name": "Python 3",
   "language": "python",
   "name": "python3"
  },
  "language_info": {
   "codemirror_mode": {
    "name": "ipython",
    "version": 3
   },
   "file_extension": ".py",
   "mimetype": "text/x-python",
   "name": "python",
   "nbconvert_exporter": "python",
   "pygments_lexer": "ipython3",
   "version": "3.8.3"
  }
 },
 "nbformat": 4,
 "nbformat_minor": 4
}
